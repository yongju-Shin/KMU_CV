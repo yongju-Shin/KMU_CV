{
  "nbformat": 4,
  "nbformat_minor": 0,
  "metadata": {
    "colab": {
      "name": "object_detection_YOLOv3.ipynb",
      "provenance": [],
      "collapsed_sections": []
    },
    "kernelspec": {
      "name": "python3",
      "display_name": "Python 3"
    },
    "accelerator": "GPU"
  },
  "cells": [
    {
      "cell_type": "markdown",
      "metadata": {
        "id": "wQaH53afmrZC"
      },
      "source": [
        "# 실습: Darknet을 이용하여 YOLOv3를 빌드하기\n",
        "\n",
        "This tutorial is a copy of the one made by 'The AI Guy'.\n",
        "The link to the original tutorial and the author is : [The AI Guy](https://www.youtube.com/channel/UCrydcKaojc44XnuXrfhlV8Q)"
      ]
    },
    {
      "cell_type": "markdown",
      "metadata": {
        "id": "ngQsy2AT256U"
      },
      "source": [
        "# 1. Darknet를 clone하기\n",
        "\n",
        "다음 셀들은 \n",
        "<ol>\n",
        "<li> AlexeyAB repository에서 darknet을 clone하고 </li>\n",
        "<li> darknet에서 OPENCV and GPU의 사용을 enable하기 위해 make파일을 수정하고 </li>\n",
        "<li> darknet을 빌드함 </li>\n",
        "</ol>"
      ]
    },
    {
      "cell_type": "code",
      "metadata": {
        "id": "HCs4VQmESACk"
      },
      "source": [
        "# darknet repository에서 clone하기\n",
        "!git clone https://github.com/AlexeyAB/darknet"
      ],
      "execution_count": null,
      "outputs": []
    },
    {
      "cell_type": "code",
      "metadata": {
        "id": "5H-Taj06Tw1c"
      },
      "source": [
        "#GPU와 OPENCV의 사용이 가능하도록  makefile을 수정하기\n",
        "%cd darknet\n",
        "!sed -i 's/OPENCV=0/OPENCV=1/' Makefile\n",
        "!sed -i 's/GPU=0/GPU=1/' Makefile\n",
        "!sed -i 's/CUDNN=0/CUDNN=1/' Makefile"
      ],
      "execution_count": null,
      "outputs": []
    },
    {
      "cell_type": "code",
      "metadata": {
        "id": "aNv1UHwXZK57"
      },
      "source": [
        "# CUDA버전 확인하기\n",
        "!/usr/local/cuda/bin/nvcc --version"
      ],
      "execution_count": null,
      "outputs": []
    },
    {
      "cell_type": "code",
      "metadata": {
        "id": "3DWRrVatZZZg"
      },
      "source": [
        "# make를 이용하여 darknet를 build\n",
        "!make"
      ],
      "execution_count": null,
      "outputs": []
    },
    {
      "cell_type": "markdown",
      "metadata": {
        "id": "47-d_3xy36U9"
      },
      "source": [
        "# 2. 사전학습된 YOLOv3 파라미터를 다운로드\n",
        "YOLOv3는 80개의 클래스를 갖는 coco 데이터셋으로 이미 학습이 되었는데, 이렇게 사전학습된 파라미터를 다운로드한다."
      ]
    },
    {
      "cell_type": "code",
      "metadata": {
        "id": "9QDHhDMgZTE9"
      },
      "source": [
        "# coco 데이터셋으로 사전학습된 weight값들을 다운로드함\n",
        "!wget https://pjreddie.com/media/files/yolov3.weights"
      ],
      "execution_count": null,
      "outputs": []
    },
    {
      "cell_type": "code",
      "metadata": {
        "id": "w4Pm0VoqmGia"
      },
      "source": [
        "# helper함수들\n",
        "def imShow(path):\n",
        "  import cv2\n",
        "  import matplotlib.pyplot as plt\n",
        "  %matplotlib inline\n",
        "\n",
        "  image = cv2.imread(path)  #경로로부터이미지를 불러읽어들여서\n",
        "  height, width = image.shape[:2]   #현재 영상의 height와 width를 읽어서\n",
        "  resized_image = cv2.resize(image,(3*width, 3*height), interpolation = cv2.INTER_CUBIC) #영상을 3배로 키운다(크게 보여주기 위해서)\n",
        "\n",
        "  fig = plt.gcf()\n",
        "  fig.set_size_inches(18, 10)\n",
        "  plt.axis(\"off\")\n",
        "  plt.imshow(cv2.cvtColor(resized_image, cv2.COLOR_BGR2RGB))  #opencv로 읽어들인 영상은 BGR포맷을 갖기 때문에 RGB포맷으로 변환해야 함\n",
        "  plt.show()\n",
        "\n",
        "# google colab으로 파일을 업로드할 때 사용하는 함수를 정의\n",
        "def upload():\n",
        "  from google.colab import files\n",
        "  uploaded = files.upload() \n",
        "  for name, data in uploaded.items():\n",
        "    with open(name, 'wb') as f:\n",
        "      f.write(data)\n",
        "      print ('saved file', name)\n",
        "\n",
        "# google colab에서 파일을 다운로드할 때 사용하는 함수를 정의\n",
        "def download(path):\n",
        "  from google.colab import files\n",
        "  files.download(path)"
      ],
      "execution_count": null,
      "outputs": []
    },
    {
      "cell_type": "markdown",
      "metadata": {
        "id": "lO3e0mod4d-p"
      },
      "source": [
        "# 3. Darknet와 YOLOv3를 실행시켜보기\n",
        "Darknet의 build가 끝났기 때문에 YOLOv3의 실행이 가능해졌다. 사전학습된 YOLOv3의 weight들을 이용하여 어떤 클래스의 detect가 가능한지는 이 링크에서 확인이 가능하다 --> [COCO CLASSES](http://cocodataset.org/#explore)\n",
        "\n",
        "Object Detector는 다음 코멘드로 실행시킬 수 있다\n",
        "```bash\n",
        "!./darknet detect <path to config> <path to weights> <path to image>\n",
        "```\n",
        "\n",
        "Darknet의 darknet/data/ 폴더에는 몇 개의 실험영상들이 존재한다\n",
        "\n",
        "**주의:** detection이 끝난 후에는 OpenCV로는 클라우드에서 영상보기가 안되어 위에서 정의한 imShow 명령문으로 영상을 보여주게 된다. : \n",
        "```bash\n",
        "imShow('predictions.jpg')\n",
        "```\n",
        "Detection이 끝난 후의 결과는 항상 'predictions.jpg'파일로 저장이 된다."
      ]
    },
    {
      "cell_type": "code",
      "metadata": {
        "id": "tdOqwX-naCcN"
      },
      "source": [
        "# darknet detection을 실행하기\n",
        "!./darknet detect cfg/yolov3.cfg yolov3.weights data/person.jpg"
      ],
      "execution_count": null,
      "outputs": []
    },
    {
      "cell_type": "code",
      "metadata": {
        "id": "_isNKIOFa3B2"
      },
      "source": [
        "# 결과영상을 보여주기\n",
        "imShow('predictions.jpg')"
      ],
      "execution_count": null,
      "outputs": []
    },
    {
      "cell_type": "code",
      "metadata": {
        "id": "093xu9Gre3EN"
      },
      "source": [
        "# dog.jpg에 대해서도 실행시켜보기\n",
        "!./darknet detect cfg/yolov3.cfg yolov3.weights data/dog.jpg\n",
        "imShow('predictions.jpg')"
      ],
      "execution_count": null,
      "outputs": []
    },
    {
      "cell_type": "markdown",
      "metadata": {
        "id": "8ppsTIG0CtX3"
      },
      "source": [
        "# 4. 구글 드라이브나 로컬에 있는 파일을 업로드하여 detection을 실행해보기\n",
        "\n",
        "내 PC나 구글 드라이브에 있는 영상을 업로드하여 detection실행시킬 수 있다."
      ]
    },
    {
      "cell_type": "code",
      "source": [
        "# 이미지를 root directory로 업로드하기 (밑에서는 street.jpg을 사용하기 때문에 street.jpg라는 이름의 이미지를 업로드함)\n",
        "%cd ..\n",
        "upload()"
      ],
      "metadata": {
        "id": "qiZF78mkqqXO"
      },
      "execution_count": null,
      "outputs": []
    },
    {
      "cell_type": "code",
      "source": [
        "# 위 셀에서 업로드한 파일명(확장자포함)을 / 다음에 써주기\n",
        "%cd darknet\n",
        "!./darknet detect cfg/yolov3.cfg yolov3.weights ../street.jpg"
      ],
      "metadata": {
        "id": "ioCPOBvNtI7H"
      },
      "execution_count": null,
      "outputs": []
    },
    {
      "cell_type": "code",
      "source": [
        "imShow('predictions.jpg')"
      ],
      "metadata": {
        "id": "fSOq2xe5wfeK"
      },
      "execution_count": null,
      "outputs": []
    },
    {
      "cell_type": "markdown",
      "source": [
        "### 클라우드에서 PC로 파일을 다운로드하기\n",
        "\n",
        "위에서 만든'download()'함수를 이용하거나 notebook의  **Download** 메뉴를 선택하여 파일을 다운로드 받을 수 있다. 파일들은 기본 '다운로드'폴더에 저장이 된다.\n",
        "\n",
        "예를 들어 object detector가 출력한 **'predictions.jpg'** 파일을 위의 방법으로 다운로드하여 저장할 수 있다."
      ],
      "metadata": {
        "id": "cKlUQdtWvKEv"
      }
    },
    {
      "cell_type": "code",
      "source": [
        "# PC에 파일을 다운로드하기 \n",
        "# 에러가 나면 다시 실행해보면 동작이 된다.\n",
        "download('predictions.jpg')"
      ],
      "metadata": {
        "id": "q4I0JlgbvNSB"
      },
      "execution_count": null,
      "outputs": []
    }
  ]
}