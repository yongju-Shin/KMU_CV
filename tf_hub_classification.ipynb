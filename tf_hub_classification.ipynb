{
  "nbformat": 4,
  "nbformat_minor": 0,
  "metadata": {
    "colab": {
      "name": "tf_hub_classification.ipynb",
      "provenance": [],
      "collapsed_sections": []
    },
    "kernelspec": {
      "name": "python3",
      "display_name": "Python 3"
    },
    "language_info": {
      "name": "python"
    }
  },
  "cells": [
    {
      "cell_type": "markdown",
      "source": [
        "#### 케라스로 텐서플로 허브 사용하기: 간단한 이미지 분류"
      ],
      "metadata": {
        "id": "QRarAtUJNpMJ"
      }
    },
    {
      "cell_type": "code",
      "execution_count": 1,
      "metadata": {
        "id": "5E-_pmkSKc2W"
      },
      "outputs": [],
      "source": [
        "# 라이브러리 import\n",
        "import matplotlib.pylab as plt\n",
        "\n",
        "import tensorflow as tf\n",
        "import tensorflow_hub as hub\n",
        "\n",
        "from tensorflow.keras import layers"
      ]
    },
    {
      "cell_type": "code",
      "source": [
        "classifier_url =\"https://tfhub.dev/google/tf2-preview/mobilenet_v2/classification/2\" #@param {type:\"string\"}"
      ],
      "metadata": {
        "cellView": "form",
        "id": "OvV-dxUFKqyP"
      },
      "execution_count": 2,
      "outputs": []
    },
    {
      "cell_type": "code",
      "source": [
        "# hub.module을 사용하여 mobilenet 불러오기, 그 후, 케라스 레이어로 만들기\n",
        "IMAGE_SHAPE = (224, 224)\n",
        "\n",
        "classifier = tf.keras.Sequential([\n",
        "    hub.KerasLayer(classifier_url, input_shape=IMAGE_SHAPE+(3,))   #채널 추가(컬러)\n",
        "])"
      ],
      "metadata": {
        "id": "baakr3RLKwU5"
      },
      "execution_count": 3,
      "outputs": []
    },
    {
      "cell_type": "code",
      "source": [
        "# 네트워크 확인\n",
        "tf.keras.utils.plot_model(classifier, show_shapes=True, dpi=64)"
      ],
      "metadata": {
        "id": "NjqM7N-kl2qb"
      },
      "execution_count": null,
      "outputs": []
    },
    {
      "cell_type": "code",
      "source": [
        "# 구글의 이미지 하나 업로드하여 모델에 적용\n",
        "import numpy as np\n",
        "import PIL.Image as Image\n",
        "\n",
        "# 구글 드라이브 마운트 통해 파일 오픈\n",
        "flower = Image.open(\"/content/drive/MyDrive/Colab Notebooks/flower.jpg\")\n",
        "flower = flower.resize(IMAGE_SHAPE)\n",
        "flower"
      ],
      "metadata": {
        "id": "1H6LPzfPK0zP"
      },
      "execution_count": null,
      "outputs": []
    },
    {
      "cell_type": "code",
      "source": [
        "flower = np.array(flower)/255.0\n",
        "flower.shape"
      ],
      "metadata": {
        "id": "aW4WyrPrK58l"
      },
      "execution_count": null,
      "outputs": []
    },
    {
      "cell_type": "code",
      "source": [
        "# 모델에 이미지 넣기  \n",
        "result = classifier.predict(flower[np.newaxis, ...])    #np.newaxis: 차원 하나 늘려주기\n",
        "result.shape                                            # result의 결과는 1001 벡터, 주어진 이미지의 각 클래스에 속할 확률값"
      ],
      "metadata": {
        "id": "6LvhG1yML-ll"
      },
      "execution_count": null,
      "outputs": []
    },
    {
      "cell_type": "code",
      "source": [
        "# argmax로 가장 높은 확률값을 갖는 클래스 구하기\n",
        "predicted_class = np.argmax(result[0], axis=-1)\n",
        "predicted_class"
      ],
      "metadata": {
        "id": "1oQavww8MHFW"
      },
      "execution_count": null,
      "outputs": []
    },
    {
      "cell_type": "code",
      "source": [
        "# class ID 예측, ImageNet의 클래스 레이블 불러오기\n",
        "labels_path = tf.keras.utils.get_file('ImageNetLabels.txt','https://storage.googleapis.com/download.tensorflow.org/data/ImageNetLabels.txt')\n",
        "imagenet_labels = np.array(open(labels_path).read().splitlines())"
      ],
      "metadata": {
        "id": "fVK1UimjMM0M"
      },
      "execution_count": null,
      "outputs": []
    },
    {
      "cell_type": "code",
      "source": [
        "print(imagenet_labels)\n",
        "print(imagenet_labels[predicted_class])"
      ],
      "metadata": {
        "id": "Sga9vBFZTFJM"
      },
      "execution_count": null,
      "outputs": []
    },
    {
      "cell_type": "code",
      "source": [
        "plt.imshow(flower)\n",
        "plt.axis('off')\n",
        "predicted_class_name = imagenet_labels[predicted_class]\n",
        "_ = plt.title(\"Prediction: \" + predicted_class_name.title())"
      ],
      "metadata": {
        "id": "a2d2p86VMP0A"
      },
      "execution_count": null,
      "outputs": []
    }
  ]
}