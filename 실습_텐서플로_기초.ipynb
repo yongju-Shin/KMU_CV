{
  "nbformat": 4,
  "nbformat_minor": 0,
  "metadata": {
    "kernelspec": {
      "name": "python3",
      "display_name": "Python 3"
    },
    "language_info": {
      "codemirror_mode": {
        "name": "ipython",
        "version": 3
      },
      "file_extension": ".py",
      "mimetype": "text/x-python",
      "name": "python",
      "nbconvert_exporter": "python",
      "pygments_lexer": "ipython3",
      "version": "3.7.6"
    },
    "colab": {
      "name": "실습_텐서플로_기초.ipynb",
      "provenance": [],
      "collapsed_sections": []
    },
    "accelerator": "GPU"
  },
  "cells": [
    {
      "cell_type": "markdown",
      "metadata": {
        "id": "spMfOdESwP16"
      },
      "source": [
        "# TensorFlow 2.x Basics\n",
        "\n",
        "본 실습강좌는 이진원 강사님이 정리한 강좌입니다.\n"
      ]
    },
    {
      "cell_type": "code",
      "metadata": {
        "id": "imjVXjMAwP2A"
      },
      "source": [
        "## TensorFlow library는 아래와 같이 import 합니다\n",
        "import tensorflow as tf"
      ],
      "execution_count": null,
      "outputs": []
    },
    {
      "cell_type": "code",
      "metadata": {
        "id": "4XOhVMSUwP2E"
      },
      "source": [
        "## TensorFlow와 함께 많이 쓰이는 numpy library는 아래와 같이 import 합니다\n",
        "import numpy as np"
      ],
      "execution_count": null,
      "outputs": []
    },
    {
      "cell_type": "code",
      "metadata": {
        "id": "U8tUwsb4wP2H"
      },
      "source": [
        "## TensorFlow 내부에는 TensorFlow를 쉽고 편하게 쓸 수 있게 해주는 high-level framework인 Keras가 포함되어 있습니다.\n",
        "from tensorflow import keras"
      ],
      "execution_count": null,
      "outputs": []
    },
    {
      "cell_type": "code",
      "metadata": {
        "id": "1ht5ijiawP2K"
      },
      "source": [
        "## TensorFlow와 Keras의 version을 확인해봅시다\n",
        "print(tf.__version__)\n",
        "print(keras.__version__)"
      ],
      "execution_count": null,
      "outputs": []
    },
    {
      "cell_type": "markdown",
      "metadata": {
        "id": "ZpHG0epAwP2N"
      },
      "source": [
        "## TensorFlow의 기본"
      ]
    },
    {
      "cell_type": "markdown",
      "metadata": {
        "id": "_3Y8uosywP2O"
      },
      "source": [
        "### Tensors(텐서)\n",
        "\n",
        "Tensor는 multi-dimensional array를 나타내는 말로, TensorFlow의 기본 data type입니다"
      ]
    },
    {
      "cell_type": "code",
      "metadata": {
        "id": "yFktD0pLwP2Q"
      },
      "source": [
        "## Hello World\n",
        "hello = tf.constant(\"Hello World\")\n",
        "print(hello)"
      ],
      "execution_count": null,
      "outputs": []
    },
    {
      "cell_type": "code",
      "metadata": {
        "id": "u4LAcWLcwP2T"
      },
      "source": [
        "## 상수형 tensor는 아래와 같이 만들 수 있습니다\n",
        "## 출력해보면 tensor의 값과 함께, shape과 내부의 data type을 함께 볼 수 있습니다\n",
        "x = tf.constant([[1.0, 2.0],\n",
        "                 [3.0, 4.0]])\n",
        "print(x)\n",
        "x = tf.constant([[1, 2],\n",
        "                 [3, 4]], dtype=tf.int32)\n",
        "print(x)"
      ],
      "execution_count": null,
      "outputs": []
    },
    {
      "cell_type": "code",
      "metadata": {
        "id": "XHfDt2GwwP2W"
      },
      "source": [
        "## 아래와 같이 numpy ndarray나 python의 list도 tensor로 바꿀 수 있습니다\n",
        "x_np = np.array([[1.0, 2.0],\n",
        "                [3.0, 4.0]])\n",
        "x_list = [[1.0, 2.0], \n",
        "         [3.0, 4.0]]\n",
        "\n",
        "print(type(x_np))\n",
        "print(type(x_list))"
      ],
      "execution_count": null,
      "outputs": []
    },
    {
      "cell_type": "code",
      "metadata": {
        "id": "Mq46jscXwP2Z"
      },
      "source": [
        "x_np = tf.convert_to_tensor(x_np)\n",
        "x_list = tf.convert_to_tensor(x_list)\n",
        "\n",
        "print(type(x_np))\n",
        "print(type(x_list))"
      ],
      "execution_count": null,
      "outputs": []
    },
    {
      "cell_type": "code",
      "metadata": {
        "id": "6FZfcNcCwP2c"
      },
      "source": [
        "## 맨 처음에 생성한 tensor의 type도 동일합니다\n",
        "print(type(x))"
      ],
      "execution_count": null,
      "outputs": []
    },
    {
      "cell_type": "code",
      "metadata": {
        "id": "CfbXMMMKwP2f"
      },
      "source": [
        "## 반대로 tensor를 다음과 같이 numpy ndarray로 바꿀 수도 있습니다\n",
        "x.numpy()"
      ],
      "execution_count": null,
      "outputs": []
    },
    {
      "cell_type": "code",
      "metadata": {
        "id": "w2xc4nwcwP2j"
      },
      "source": [
        "print(type(x.numpy()))"
      ],
      "execution_count": null,
      "outputs": []
    },
    {
      "cell_type": "code",
      "metadata": {
        "id": "z2OAZceowP2m"
      },
      "source": [
        "## Tensor는 numpy ndarray와 마찬가지로 dtype과 shape이라는 속성을 가지고 있습니다\n",
        "print('dtype:', x.dtype)\n",
        "print('shape:', x.shape)"
      ],
      "execution_count": null,
      "outputs": []
    },
    {
      "cell_type": "code",
      "metadata": {
        "id": "nALcEhXUwP2o"
      },
      "source": [
        "## 상수형 tensor를 생성하는 방법으로 아래와 같은 방법이 많이 사용됩니다\n",
        "print(tf.ones(shape=(2,2)))\n",
        "print(tf.ones(shape=(2,2))*3)\n",
        "print(tf.zeros(shape=(2,2)))"
      ],
      "execution_count": null,
      "outputs": []
    },
    {
      "cell_type": "code",
      "metadata": {
        "id": "-XgL-ppdwP2s"
      },
      "source": [
        "## tensor끼리의 4칙 연산은 element-wise 연산을 기본으로 합니다\n",
        "a = tf.ones((2,2))*2\n",
        "b = tf.ones((2,2))*6\n",
        "print (a.numpy())\n",
        "print (b.numpy())\n",
        "\n",
        "## 덧셈\n",
        "print (\"덧셈\")\n",
        "print (tf.add(a, b).numpy())\n",
        "print ((a + b).numpy())\n",
        "\n",
        "## 뺄셈\n",
        "print (\"뺄셈\")\n",
        "print (tf.subtract(b, a).numpy())\n",
        "print ((b - a).numpy())\n",
        "\n",
        "## 곱셈\n",
        "print (\"곱셈\")\n",
        "print (tf.multiply(a, b).numpy())  # tf.mul\n",
        "print ((a * b).numpy())\n",
        "\n",
        "## 나눗셈\n",
        "print (\"나눗셈\")\n",
        "print (tf.divide(b, a).numpy())\n",
        "print ((b / a).numpy())"
      ],
      "execution_count": null,
      "outputs": []
    },
    {
      "cell_type": "code",
      "metadata": {
        "id": "P5np7uzGwP2v"
      },
      "source": [
        "## Tensor와 numpy ndarray는 많은 경우에 자동으로 호환됩니다\n",
        "tfarray = tf.ones((3,3))\n",
        "ndarray = np.ones((3, 3))\n",
        "print(tfarray)\n",
        "print(ndarray)\n",
        "\n",
        "## Tensor연산에 입력으로 tensor가 아닌 ndarray가 입력으로 들어갈 수 있습니다\n",
        "print(\"TensorFlow operations convert numpy arrays to Tensors automatically\")\n",
        "tensor = tf.multiply(ndarray, 10)\n",
        "print(tensor)\n",
        "\n",
        "## numpy ndarray연산에 입력으로 tensor가 들어갈 수도 있습니다\n",
        "print(\"And NumPy operations convert Tensors to numpy arrays automatically\")\n",
        "print(np.add(tensor, 2))"
      ],
      "execution_count": null,
      "outputs": []
    },
    {
      "cell_type": "code",
      "metadata": {
        "id": "IOIUWkBgwP2y"
      },
      "source": [
        "## Random한 상수형 tensor는 다음과 같이 만들 수 있습니다\n",
        "## 아래는 표준정규분포로부터 상수를 생성합니다\n",
        "tf.random.normal(shape=(2,2), mean=0., stddev=1.)"
      ],
      "execution_count": null,
      "outputs": []
    },
    {
      "cell_type": "code",
      "metadata": {
        "id": "BG4_Xq4XwP20"
      },
      "source": [
        "## 아래는 균등(uniform)분포로부터 random 상수를 생성합니다\n",
        "tf.random.uniform(shape=(2, 2), minval=0, maxval=10, dtype='int32')"
      ],
      "execution_count": null,
      "outputs": []
    },
    {
      "cell_type": "markdown",
      "metadata": {
        "id": "X-cq6dYpwP23"
      },
      "source": [
        "### Variables (변수)\n",
        "[Variables](https://www.tensorflow.org/guide/variable)는 변할 수 있는 상태를 저장하는데 사용되는 특별한 텐서 입니다. \n",
        "\n",
        "우리는 대부분의 경우에 우리가 학습해야하는 가중치(weight, parameter)들을 variable로 생성합니다."
      ]
    },
    {
      "cell_type": "code",
      "metadata": {
        "id": "kEyEcL-hwP24"
      },
      "source": [
        "## 초기값을 사용해서 Variable을 생성할 수 있습니다\n",
        "initial_value = tf.random.normal(shape=(2, 2))\n",
        "print(initial_value)\n",
        "weight = tf.Variable(initial_value)\n",
        "print(weight)"
      ],
      "execution_count": null,
      "outputs": []
    },
    {
      "cell_type": "code",
      "metadata": {
        "id": "vW68p5gAwP28"
      },
      "source": [
        "## 아래와 같이 variable을 초기화해주는 initializer들을 사용할 수도 있습니다\n",
        "weight = tf.Variable(tf.random_normal_initializer(stddev=0.1)(shape=(2,2)))\n",
        "print(weight)"
      ],
      "execution_count": null,
      "outputs": []
    },
    {
      "cell_type": "code",
      "metadata": {
        "id": "YeZfL3dcwP2_"
      },
      "source": [
        "## variable은 `.assign(value)`, `.assign_add(increment)`, 또는 `.assign_sub(decrement)`\n",
        "## 와 같은 메소드를 사용해서 Variable의 값을 갱신합니다:'''\n",
        "new_value = tf.random.normal(shape=(2,2))\n",
        "print(new_value)\n",
        "weight.assign(new_value)\n",
        "print(weight)"
      ],
      "execution_count": null,
      "outputs": []
    },
    {
      "cell_type": "code",
      "metadata": {
        "id": "R1V-jIlXwP3B"
      },
      "source": [
        "added_value = tf.ones(shape=(2,2))\n",
        "weight.assign_add(added_value)\n",
        "print(weight)"
      ],
      "execution_count": null,
      "outputs": []
    },
    {
      "cell_type": "markdown",
      "metadata": {
        "id": "otxR2EWuwP3N"
      },
      "source": [
        "### Tensor Operations"
      ]
    },
    {
      "cell_type": "markdown",
      "metadata": {
        "id": "CmLzr371wP3O"
      },
      "source": [
        "#### Indexing, Slicing"
      ]
    },
    {
      "cell_type": "code",
      "metadata": {
        "id": "nWQWjstPwP3P"
      },
      "source": [
        "a = tf.constant([1,2,3,6,7,8])\n",
        "print(a[2])\n",
        "x = tf.constant([[1,2,3,4], [5,6,7,8], [9,10,11,12]])\n",
        "print(x)"
      ],
      "execution_count": null,
      "outputs": []
    },
    {
      "cell_type": "code",
      "metadata": {
        "id": "CRJniwEiwP3S"
      },
      "source": [
        "## indexing - indexing을 사용하면 항상 차원이 감소합니다\n",
        "print(x[0])\n",
        "print(x[1])\n",
        "print(x[2])\n",
        "print(x[0, 1])\n",
        "print(x[1, 2])\n",
        "print(x[2, 3])"
      ],
      "execution_count": null,
      "outputs": []
    },
    {
      "cell_type": "code",
      "metadata": {
        "id": "bpLIGfcOwP3W"
      },
      "source": [
        "## slicing\n",
        "print(x[1:3, 1:3])\n",
        "print(x[:2, 1:3])\n",
        "print(x[1:3, 3:])"
      ],
      "execution_count": null,
      "outputs": []
    },
    {
      "cell_type": "markdown",
      "metadata": {
        "id": "JBLqq7wXwP3Z"
      },
      "source": [
        "#### Reshape, Expend_dims"
      ]
    },
    {
      "cell_type": "code",
      "metadata": {
        "id": "JKObNNXpwP3a"
      },
      "source": [
        "t = tf.constant([[[0, 1, 2], \n",
        "                [3, 4, 5]],              \n",
        "               [[6, 7, 8], \n",
        "                [9, 10, 11]]])\n",
        "print(t.shape)"
      ],
      "execution_count": null,
      "outputs": []
    },
    {
      "cell_type": "code",
      "metadata": {
        "id": "ZOIJ05-RwP3d"
      },
      "source": [
        "print(tf.reshape(t, shape=[-1, 3]))"
      ],
      "execution_count": null,
      "outputs": []
    },
    {
      "cell_type": "code",
      "metadata": {
        "id": "bl6gMrLqwP3g"
      },
      "source": [
        "print(tf.reshape(t, shape=[-1, 1, 3]))"
      ],
      "execution_count": null,
      "outputs": []
    },
    {
      "cell_type": "code",
      "metadata": {
        "id": "FXKuUpBtwP3j"
      },
      "source": [
        "x = tf.constant([0, 1, 2])\n",
        "print(x.shape)"
      ],
      "execution_count": null,
      "outputs": []
    },
    {
      "cell_type": "code",
      "metadata": {
        "id": "eu5yoL-XwP3m"
      },
      "source": [
        "print(tf.expand_dims(x, axis=0))\n",
        "print(tf.expand_dims(x, axis=1))"
      ],
      "execution_count": null,
      "outputs": []
    },
    {
      "cell_type": "markdown",
      "metadata": {
        "id": "Xwk7MP1DwP3q"
      },
      "source": [
        "#### Reduce Mean/Sum"
      ]
    },
    {
      "cell_type": "code",
      "metadata": {
        "id": "opingndLwP3q"
      },
      "source": [
        "x = tf.constant([[1., 2.],\n",
        "                [3., 4.]])\n",
        "\n",
        "print(tf.reduce_mean(x))"
      ],
      "execution_count": null,
      "outputs": []
    },
    {
      "cell_type": "code",
      "metadata": {
        "id": "wXrXXCnJwP3t"
      },
      "source": [
        "print(tf.reduce_mean(x, axis=0))"
      ],
      "execution_count": null,
      "outputs": []
    },
    {
      "cell_type": "code",
      "metadata": {
        "id": "Si5NR-d_wP3v"
      },
      "source": [
        "print(tf.reduce_mean(x, axis=1))"
      ],
      "execution_count": null,
      "outputs": []
    },
    {
      "cell_type": "code",
      "metadata": {
        "id": "6i41fST1wP3x"
      },
      "source": [
        "print(tf.reduce_mean(x, axis=-1))"
      ],
      "execution_count": null,
      "outputs": []
    },
    {
      "cell_type": "markdown",
      "metadata": {
        "id": "z_W6aJTowP3z"
      },
      "source": [
        "여기서 축(axis)은 각 배열의 차원에 해당되는 인덱스입니다. 위의 예를 설명하면\n",
        "\n",
        "- x.shape 은 (2, 2) 입니다.\n",
        "- tf.reduce_mean(x, axis=0) 은\n",
        "- x.shape[axis]: x.shape[0] 에 대하여 연산을 하라는 의미\n",
        "입니다.\n",
        "\n",
        "X.shape == (5, 3, 2) 인 경우를 생각해봅시다. 이 경우 tf.reduce_mean(X, axis=1) 의 결과값은\n",
        "\n",
        "1. X.shape[axis] => X.shape[1] 에 대해서 연산을 하기 때문에\n",
        "2. tf.reduce_mean(X, axis=1).shape 은 (5, 3, 2) -> (5, 2) 가 됩니다."
      ]
    },
    {
      "cell_type": "code",
      "metadata": {
        "scrolled": true,
        "id": "7RfW9UeswP30"
      },
      "source": [
        "print(tf.reduce_sum(x))"
      ],
      "execution_count": null,
      "outputs": []
    },
    {
      "cell_type": "code",
      "metadata": {
        "id": "53pZvjDCwP35"
      },
      "source": [
        "print(tf.reduce_sum(x, axis=0))"
      ],
      "execution_count": null,
      "outputs": []
    },
    {
      "cell_type": "code",
      "metadata": {
        "id": "8siygT_LwP37"
      },
      "source": [
        "print(tf.reduce_sum(x, axis=-1))"
      ],
      "execution_count": null,
      "outputs": []
    },
    {
      "cell_type": "code",
      "metadata": {
        "id": "UF4Ayj4xwP39"
      },
      "source": [
        "print(tf.reduce_mean(tf.reduce_sum(x, axis=-1)))"
      ],
      "execution_count": null,
      "outputs": []
    },
    {
      "cell_type": "markdown",
      "metadata": {
        "id": "hBEDt2GlwP4J"
      },
      "source": [
        "#### Argmax"
      ]
    },
    {
      "cell_type": "code",
      "metadata": {
        "id": "bjy3fD4QwP4K"
      },
      "source": [
        "x = [[0, 1, 2],\n",
        "     [2, 1, 0]]\n",
        "print(tf.argmax(x, axis=0))"
      ],
      "execution_count": null,
      "outputs": []
    },
    {
      "cell_type": "code",
      "metadata": {
        "id": "h44l2L2zSR8V"
      },
      "source": [
        "x = [[0, 1, 2],\n",
        "     [2, 1, 0]]\n",
        "print(tf.argmax(x))"
      ],
      "execution_count": null,
      "outputs": []
    },
    {
      "cell_type": "code",
      "metadata": {
        "id": "iUR4kli7wP4M"
      },
      "source": [
        "print(tf.argmax(x, axis=1))"
      ],
      "execution_count": null,
      "outputs": []
    },
    {
      "cell_type": "code",
      "metadata": {
        "id": "_DfpSPhQwP4Q"
      },
      "source": [
        "print(tf.argmax(x, axis=-1))"
      ],
      "execution_count": null,
      "outputs": []
    },
    {
      "cell_type": "markdown",
      "metadata": {
        "id": "8ySU5JA7wP4S"
      },
      "source": [
        "#### One-hot Encoding"
      ]
    },
    {
      "cell_type": "code",
      "metadata": {
        "id": "la2hlpqtwP4S"
      },
      "source": [
        "label = tf.constant([0, 1, 2, 7])\n",
        "onehot1 = tf.one_hot(label, depth=10)\n",
        "onehot2 = keras.utils.to_categorical(label, num_classes=10)\n",
        "\n",
        "print(onehot1, type(onehot1))\n",
        "print(onehot2, type(onehot2))"
      ],
      "execution_count": null,
      "outputs": []
    },
    {
      "cell_type": "markdown",
      "metadata": {
        "id": "L0cg-32PwP4V"
      },
      "source": [
        "#### Type Casting"
      ]
    },
    {
      "cell_type": "code",
      "metadata": {
        "id": "jatYT4zLwP4W"
      },
      "source": [
        "print(tf.cast([1.8, 2.2, 3.3, 4.9], tf.int32))"
      ],
      "execution_count": null,
      "outputs": []
    },
    {
      "cell_type": "code",
      "metadata": {
        "id": "tICoHJuzwP4Y"
      },
      "source": [
        "print(tf.cast([True, False, 1 == 1, 0 == 1], tf.int32))"
      ],
      "execution_count": null,
      "outputs": []
    },
    {
      "cell_type": "markdown",
      "metadata": {
        "id": "9h0d3o9FwP4a"
      },
      "source": [
        "### tf.data를 이용하여 Dataset 만들기\n",
        "\n",
        "TensorFlow를 이용하여 deep learning model을 학습할 때, input data 및 label을 공급해주기 위하여 tf.data.Dataset을 이용합니다."
      ]
    },
    {
      "cell_type": "code",
      "metadata": {
        "id": "cGHHCuHxukV5"
      },
      "source": [
        "## 0에서 9까지 정수가 input data라고 가정해봅시다\n",
        "a = np.arange(10)\n",
        "print(a)"
      ],
      "execution_count": null,
      "outputs": []
    },
    {
      "cell_type": "code",
      "metadata": {
        "id": "VWwL5iGhu5kp"
      },
      "source": [
        "## dataset은 아래와 같이 만들 수 있습니다\n",
        "ds_tensors = tf.data.Dataset.from_tensor_slices(a)\n",
        "print(ds_tensors)"
      ],
      "execution_count": null,
      "outputs": []
    },
    {
      "cell_type": "code",
      "metadata": {
        "id": "1Cd4zEOYvHiI"
      },
      "source": [
        "data = ds_tensors.take(5)\n",
        "print(data)"
      ],
      "execution_count": null,
      "outputs": []
    },
    {
      "cell_type": "code",
      "metadata": {
        "id": "5mbHU-rhwP4b"
      },
      "source": [
        "## dataset에서 앞 5개 data를 꺼내서 확인해보겠습니다\n",
        "data = ds_tensors.take(5)\n",
        "for x in data:\n",
        "    print (x)"
      ],
      "execution_count": null,
      "outputs": []
    },
    {
      "cell_type": "code",
      "metadata": {
        "id": "RA75mjZDvfm1"
      },
      "source": [
        "ds_tensors2 = ds_tensors.map(tf.square).batch(4)"
      ],
      "execution_count": null,
      "outputs": []
    },
    {
      "cell_type": "code",
      "metadata": {
        "id": "Vw7IteJovohJ"
      },
      "source": [
        "data = ds_tensors2.take(10)\n",
        "for x in data:\n",
        "    print (x)"
      ],
      "execution_count": null,
      "outputs": []
    },
    {
      "cell_type": "code",
      "metadata": {
        "id": "b5AKSCPewP4c"
      },
      "source": [
        "## dataset 내의 각 data에 함수를 적용하기 위해서는 아래와 같이 map을 사용합니다\n",
        "## 이는 data 전처리에 많이 사용됩니다\n",
        "## 또한 data를 섞어주는 shuffle과 batch size만큼 data를 꺼내주는 batch도 사용할 수 있습니다\n",
        "\n",
        "ds_tensors = ds_tensors.map(tf.square).shuffle(10).batch(2)"
      ],
      "execution_count": null,
      "outputs": []
    },
    {
      "cell_type": "code",
      "metadata": {
        "id": "nfFl2mbDwP4e"
      },
      "source": [
        "## 실제 data를 꺼내서 사용할 때는 아래와 같이 for문에 dataset을 넣어주면 됩니다.\n",
        "print('Elements of ds_tensors:')\n",
        "for _ in range(3):\n",
        "  for x in ds_tensors:\n",
        "      print(x)"
      ],
      "execution_count": null,
      "outputs": []
    }
  ]
}