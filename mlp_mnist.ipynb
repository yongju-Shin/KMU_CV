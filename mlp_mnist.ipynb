{
  "nbformat": 4,
  "nbformat_minor": 0,
  "metadata": {
    "colab": {
      "name": "mlp_mnist.ipynb",
      "provenance": [],
      "collapsed_sections": []
    },
    "kernelspec": {
      "name": "python3",
      "display_name": "Python 3"
    },
    "language_info": {
      "name": "python"
    }
  },
  "cells": [
    {
      "cell_type": "code",
      "execution_count": 1,
      "metadata": {
        "id": "YIgNfWDy5Pon"
      },
      "outputs": [],
      "source": [
        "'''\n",
        "MLP MNIST digits classification\n",
        "\n",
        "3-layer MLP for MNIST digits classification \n",
        "First 2 layers - Dense-ReLU-Dropout\n",
        "3rd layer - Dense\n",
        "Output Activation - softmax\n",
        "Optimizer - Adam\n",
        "\n",
        "https://github.com/PacktPublishing/Advanced-Deep-Learning-with-Keras의 코드를 기본으로 수정\n",
        "'''\n",
        "\n",
        "import numpy as np\n",
        "import matplotlib.pyplot as plt\n",
        "from tensorflow.keras.models import Sequential\n",
        "from tensorflow.keras.layers import Dense, Activation, Dropout\n",
        "from tensorflow.keras.utils import to_categorical, plot_model\n",
        "from tensorflow.keras.datasets import mnist"
      ]
    },
    {
      "cell_type": "markdown",
      "source": [
        "Coding Tips\n",
        "1. Hyper Parameter 정하기\n",
        "2. Data 준비(불러오기 or download 등)\n",
        "3. Dataset 구성 (tf.data.Dataset 이용)\n",
        "4. Model 만들기 (Neural Network model)\n",
        "5. Loss function 정의, Optimizer 선택\n",
        "6. Training (Train, Test function 만들기 포함)\n",
        "7. Validation(or Test) 결과 확인"
      ],
      "metadata": {
        "id": "m2oK6jSpQeUJ"
      }
    },
    {
      "cell_type": "code",
      "source": [
        "# mnist dataset 로딩\n",
        "(x_train, y_train), (x_test, y_test) = mnist.load_data()"
      ],
      "metadata": {
        "id": "KCL9_vTu5hMQ"
      },
      "execution_count": null,
      "outputs": []
    },
    {
      "cell_type": "code",
      "metadata": {
        "id": "D950PM8QlTny"
      },
      "source": [
        "## train_images의 0번 image 화면에 출력\n",
        "plt.figure()\n",
        "plt.imshow(x_train[0], cmap=plt.cm.binary)   #plt.cm.binary: 그레이스케일 컬러 맵\n",
        "plt.colorbar()\n",
        "plt.show()"
      ],
      "execution_count": null,
      "outputs": []
    },
    {
      "cell_type": "code",
      "metadata": {
        "id": "bv4WpypTlTn1"
      },
      "source": [
        "## 25개의 train image와 label 화면에 출력\n",
        "plt.figure(figsize=(15,15))\n",
        "for i in range(25):\n",
        "    plt.subplot(5,5,i+1)\n",
        "    plt.xticks([])\n",
        "    plt.yticks([])\n",
        "    plt.grid(False)\n",
        "    plt.imshow(x_train[i], cmap=plt.cm.binary)\n",
        "    #plt.xlabel(y_train[i])"
      ],
      "execution_count": null,
      "outputs": []
    },
    {
      "cell_type": "code",
      "source": [
        "# 레이블 개수 계산\n",
        "num_labels = len(np.unique(y_train))"
      ],
      "metadata": {
        "id": "oRrv1v4W5lAK"
      },
      "execution_count": 6,
      "outputs": []
    },
    {
      "cell_type": "code",
      "source": [
        "# one-hot vector로 변환\n",
        "y_train = to_categorical(y_train)\n",
        "y_test = to_categorical(y_test)"
      ],
      "metadata": {
        "id": "aGnYUpTp5ljO"
      },
      "execution_count": 7,
      "outputs": []
    },
    {
      "cell_type": "code",
      "source": [
        "# 이미지 차원 (정사각형으로 가정)\n",
        "image_size = x_train.shape[1]\n",
        "input_size = image_size * image_size"
      ],
      "metadata": {
        "id": "Ry7zM01Z5nQC"
      },
      "execution_count": 8,
      "outputs": []
    },
    {
      "cell_type": "code",
      "source": [
        "# 크기 조정, 정규화\n",
        "x_train = np.reshape(x_train, [-1, input_size])\n",
        "x_train = x_train.astype('float32') / 255\n",
        "x_test = np.reshape(x_test, [-1, input_size])\n",
        "x_test = x_test.astype('float32') / 255"
      ],
      "metadata": {
        "id": "0gk1dX3T5qnw"
      },
      "execution_count": 9,
      "outputs": []
    },
    {
      "cell_type": "code",
      "source": [
        "# 신경망 하이퍼파라미터 설정\n",
        "batch_size = 128\n",
        "hidden_units = 256\n",
        "dropout = 0.45      # 45% 연결 제거"
      ],
      "metadata": {
        "id": "VzkIORk25rRa"
      },
      "execution_count": 10,
      "outputs": []
    },
    {
      "cell_type": "code",
      "source": [
        "# 모델: 3-layer MLP, 각 layer다음에는 ReLU와 dropout 적용\n",
        "# regulairizer: Dropuout\n",
        "model = Sequential()\n",
        "model.add(Dense(hidden_units, input_dim=input_size))\n",
        "model.add(Activation('relu'))\n",
        "model.add(Dropout(dropout))\n",
        "model.add(Dense(hidden_units))\n",
        "model.add(Activation('relu'))\n",
        "model.add(Dropout(dropout))\n",
        "model.add(Dense(num_labels))"
      ],
      "metadata": {
        "id": "E-2SSMBf5s2Q"
      },
      "execution_count": 11,
      "outputs": []
    },
    {
      "cell_type": "code",
      "source": [
        "# one-hot vector 출력\n",
        "model.add(Activation('softmax'))\n",
        "model.summary()\n",
        "#plot_model(model, to_file='mlp-mnist.png', show_shapes=True)"
      ],
      "metadata": {
        "id": "q3hu85yW5zpy"
      },
      "execution_count": null,
      "outputs": []
    },
    {
      "cell_type": "code",
      "source": [
        "# one-hot vector 손실함수\n",
        "# 최적화: adam optimizer\n",
        "# 분류 평가지표: accuracy\n",
        "model.compile(loss='categorical_crossentropy',\n",
        "              optimizer='adam',\n",
        "              metrics=['accuracy'])"
      ],
      "metadata": {
        "id": "Kztq3gPQ6AIo"
      },
      "execution_count": 13,
      "outputs": []
    },
    {
      "cell_type": "code",
      "source": [
        "# 훈련\n",
        "#model.fit(x_train, y_train, epochs=20, batch_size=batch_size)\n",
        "history = model.fit(x_train, y_train, epochs=20, batch_size=batch_size)"
      ],
      "metadata": {
        "id": "-ZWU96Tb6Eti"
      },
      "execution_count": null,
      "outputs": []
    },
    {
      "cell_type": "code",
      "source": [
        "# 테스트 테이터셋으로 일반화 검증\n",
        "loss, acc = model.evaluate(x_test,\n",
        "                        y_test,\n",
        "                        batch_size=batch_size,\n",
        "                        verbose=0)\n",
        "print(\"\\nTest accuracy: %.1f%%\" % (100.0 * acc))"
      ],
      "metadata": {
        "id": "WHVWPIHp6GpM"
      },
      "execution_count": null,
      "outputs": []
    },
    {
      "cell_type": "code",
      "metadata": {
        "id": "AcwCLSLJlToJ"
      },
      "source": [
        "## Plot loss\n",
        "plt.plot(history.history['loss'], 'b-', label='loss')\n",
        "plt.xlabel('Epoch')\n",
        "plt.legend()\n",
        "plt.show()"
      ],
      "execution_count": null,
      "outputs": []
    }
  ]
}